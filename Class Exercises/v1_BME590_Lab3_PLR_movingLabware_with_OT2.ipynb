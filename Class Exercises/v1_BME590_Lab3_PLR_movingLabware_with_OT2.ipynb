{
 "cells": [
  {
   "cell_type": "markdown",
   "id": "8052bb59-0ed3-42e8-a98e-e967dbfa6fc0",
   "metadata": {},
   "source": [
    "# 3 Intro to PyLabRobot: Moving Labware on the OT2"
   ]
  },
  {
   "cell_type": "markdown",
   "id": "316f20d8-31d7-4a3d-a114-889ad2c6cce8",
   "metadata": {},
   "source": [
    "## Learning Objectives:\n",
    "**3.0.1** Moving Plates around the Deck\n",
    "\n",
    "**3.0.2** Placing Lids\n",
    "\n",
    "**3.0.3** Removing Lids"
   ]
  },
  {
   "cell_type": "markdown",
   "id": "a71f2ec9-4c62-4504-b446-060021ebc6e1",
   "metadata": {},
   "source": [
    "### Imports"
   ]
  },
  {
   "cell_type": "code",
   "execution_count": 1,
   "id": "cbd6821a-fe39-4373-9253-232c44401d6c",
   "metadata": {},
   "outputs": [],
   "source": [
    "import sys"
   ]
  },
  {
   "cell_type": "code",
   "execution_count": 2,
   "id": "4b637b38-d8f7-4bd9-b411-7503cf694a29",
   "metadata": {},
   "outputs": [
    {
     "name": "stdout",
     "output_type": "stream",
     "text": [
      "3.10.4 (main, Jun 29 2022, 12:14:53) [GCC 11.2.0]\n"
     ]
    }
   ],
   "source": [
    "# Make sure you are running Python version 3.10!\n",
    "print(sys.version)"
   ]
  },
  {
   "cell_type": "code",
   "execution_count": 3,
   "id": "de7bfac6-23e1-4704-864f-9925d33bfc39",
   "metadata": {},
   "outputs": [],
   "source": [
    "import pylabrobot"
   ]
  },
  {
   "cell_type": "code",
   "execution_count": 13,
   "id": "5e329361-c7b1-4344-a868-f4df614320de",
   "metadata": {},
   "outputs": [],
   "source": [
    "# Importing necessary modules from the PyLabRobot package to handle liquids and␣visualize processes.\n",
    "from pylabrobot.liquid_handling import LiquidHandler\n",
    "from pylabrobot.liquid_handling.backends import ChatterBoxBackend\n",
    "from pylabrobot.visualizer.visualizer import Visualizer\n",
    "\n",
    "# This import provides access to OTDeck, which represents the deck of an␣Opentrons robot.\n",
    "from pylabrobot.resources.opentrons import OTDeck\n",
    "# Loading and Plate Management\n",
    "\n",
    "# Imports functions and classes to load resources and manage plate types␣specific to Opentrons robots.\n",
    "from pylabrobot.resources.opentrons.load import *\n",
    "from pylabrobot.resources.opentrons.plates import *\n",
    "\n",
    "# Tracking and Contamination Prevention\n",
    "# Enables tracking of tip usage, liquid volume, and helps prevent␣cross-contamination in experiments.\n",
    "from pylabrobot.resources import set_tip_tracking, set_volume_tracking, set_cross_contamination_tracking\n",
    "from pylabrobot.resources.plate import *\n",
    "\n",
    "# Optional, use when interested in tracking the state of tips and volumes, generally keep this on\n",
    "set_tip_tracking(True), set_volume_tracking(True)\n",
    "\n",
    "# Optional, use when interested in protecting against accidental cross contamination\n",
    "set_cross_contamination_tracking(True)\n",
    "\n",
    "# External Libraries\n",
    "# Importing standard libraries for additional functionality.\n",
    "import opentrons # Provides access to Opentrons API for robot control.\n",
    "import time # Allows for adding delays in the robot's operation for timing␣experiments.\n"
   ]
  },
  {
   "cell_type": "markdown",
   "id": "23413625-d621-4714-907f-7884c3b54a3c",
   "metadata": {},
   "source": [
    "##### Labware"
   ]
  },
  {
   "cell_type": "code",
   "execution_count": 5,
   "id": "aab27011-46e4-48db-a7d9-49b24b1e5abb",
   "metadata": {},
   "outputs": [],
   "source": [
    "from pylabrobot.resources import (\n",
    "    opentrons_24_tuberack_eppendorf_2ml_safelock_snapcap,\n",
    "    opentrons_96_tiprack_300ul,\n",
    "    corning_96_wellplate_360ul_flat\n",
    ")"
   ]
  },
  {
   "cell_type": "markdown",
   "id": "ed9387cd-f5d2-48c7-9295-53695b4b0404",
   "metadata": {},
   "source": [
    "### 3.0.1 Plate movement and Gripper Operations. \n",
    "#### If you ever get stuck, click the circley arrow at the top of the notebook to restart your progress!\n",
    "\n",
    "First we will import `LiquidHandler`, a backend called `ChatterBoxBackend` that prints the text\n",
    "output of our commands, a class `Visualizer` that provides a visualization of the robot deck as we\n",
    "run commands, and a class `OTDeck()` that will represent the deck of an OpenTrons OT2, one of\n",
    "the most widely used liquid handling robots. "
   ]
  },
  {
   "cell_type": "markdown",
   "id": "cbbc949f-79cc-4e2a-9de3-3776f9601723",
   "metadata": {},
   "source": [
    "#### Set up `LiquidHandler` and `Visualizer`"
   ]
  },
  {
   "cell_type": "code",
   "execution_count": 6,
   "id": "6ca620b3-1402-4597-b042-2d4de83a3dbf",
   "metadata": {},
   "outputs": [
    {
     "name": "stdout",
     "output_type": "stream",
     "text": [
      "Setting up the robot.\n",
      "Resource deck was assigned to the robot.\n",
      "Resource trash_container was assigned to the robot.\n",
      "Websocket server started at http://127.0.0.1:2121\n",
      "File server started at http://127.0.0.1:1337 . Open this URL in your browser.\n"
     ]
    }
   ],
   "source": [
    "lh = LiquidHandler(backend=ChatterBoxBackend(), deck=OTDeck())\n",
    "\n",
    "await lh.setup()\n",
    "\n",
    "vis = Visualizer(resource=lh)\n",
    "await vis.setup()"
   ]
  },
  {
   "cell_type": "markdown",
   "id": "ab03fa55-93da-4ad0-af9e-ae372d0bf19c",
   "metadata": {},
   "source": [
    "#### Setting up the Deck:\n",
    "Let's begin this exercise by adding a 96-well plate and tube rack to the deck."
   ]
  },
  {
   "cell_type": "code",
   "execution_count": 7,
   "id": "cabc5a39-b163-4c3d-bfac-9d5afb9c8397",
   "metadata": {},
   "outputs": [
    {
     "name": "stdout",
     "output_type": "stream",
     "text": [
      "Resource tube_rack was assigned to the robot.\n",
      "Resource plate was assigned to the robot.\n"
     ]
    }
   ],
   "source": [
    "tube_rack = opentrons_24_tuberack_eppendorf_2ml_safelock_snapcap(\"tube_rack\")\n",
    "plate = corning_96_wellplate_360ul_flat(\"plate\")\n",
    "\n",
    "lh.deck.assign_child_at_slot(tube_rack, 10)\n",
    "lh.deck.assign_child_at_slot(plate, 3)"
   ]
  },
  {
   "cell_type": "code",
   "execution_count": null,
   "id": "384351e5-06fd-4dcf-b36f-23a035f7fbec",
   "metadata": {},
   "outputs": [],
   "source": [
    "# Now, let's add some liquids to the first column of tubes\n",
    "first_col_tubes = next(tube_rack.traverse(batch_size=4, direction='down'))\n",
    "for i in range(len(first_col_tubes)):\n",
    "    # [(liquid, volume)] is the proper syntax for adding a liquid to a labware. That's a list of tuples of the form (liquid_name, volume_in_uL)]\n",
    "    first_col_tubes[i].tracker.set_liquids([(f\"Dye_{i}\", 2000)])"
   ]
  },
  {
   "cell_type": "markdown",
   "id": "b20e4993-a317-49e0-a4de-36a6422b5dcf",
   "metadata": {},
   "source": [
    "#### Introducing the Gripper!\n",
    "Various liquid handling robots have a part called a `Gripper`. It is essentially an arm that you can program to move labware around the deck as your protocol progresses. The OpenTrons OT2 does not have one of these, but the OpenTrons Flex does. For this tutorial, we will be using a simulated `Gripper` class that implements the methods we need to demonstrate how you would use this feature in a real experiment.\n",
    "\n",
    "* If you want to implement your own robot part, use this as inspiration and refer to this tutorial on [Python Classes](https://www.geeksforgeeks.org/python-classes-and-objects/)."
   ]
  },
  {
   "cell_type": "code",
   "execution_count": 25,
   "id": "8fdfc828-57d4-4adf-b90b-988b13d6f4d5",
   "metadata": {},
   "outputs": [],
   "source": [
    "class Gripper:\n",
    "    # Constructor, this function instantiates our Gripper\n",
    "    def __init__(self, lh):\n",
    "        self.lh = lh\n",
    "\n",
    "    # Move labware function, this function will take a labware and move it to dest_spot\n",
    "    # Note, this will not work in a real PLR code, and is currently being implemented by the PLR team\n",
    "    def move_labware(self, labware, dest_spot):\n",
    "        self.lh.deck.unassign_child_resource(labware)\n",
    "        self.lh.deck.assign_child_at_slot(labware, dest_spot)\n",
    "        print(f\"Moving {labware.name} to spot {dest_spot}\")\n",
    "\n",
    "    # Function to add a lid to a plate\n",
    "    def add_lid(self, plate, lid, current_lid_spot=None):\n",
    "        # If the lid has not been placed on the robot, keep current_lid_spot_none\n",
    "\n",
    "        if current_lid_spot:\n",
    "            lh.deck.unassign_child_resource(lid)\n",
    "            plate.assign_child_resource(lid)\n",
    "            print(f\"Moving lid {lid.name} from spot {current_lid_spot} to plate {plate.name}\")\n",
    "        else:\n",
    "            plate.assign_child_resource(lid)\n",
    "            print(f\"Adding lid {lid.name} to plate {plate.name}\")\n",
    "\n",
    "    # Function to remove a lid from a plate\n",
    "    def remove_lid(self, plate, lid_dest_spot):\n",
    "        assert plate.has_lid(), \"Plate doesn't have a lid!\"\n",
    "\n",
    "        lid = plate.lid\n",
    "        plate.unassign_child_resource(lid)\n",
    "        lh.deck.assign_child_at_slot(lid, lid_dest_spot)\n",
    "\n",
    "# Example declaration:\n",
    "# Assuming you have a liquidHandler object lh\n",
    "gripper = Gripper(lh)"
   ]
  },
  {
   "cell_type": "code",
   "execution_count": 26,
   "id": "0860b4a5-169a-453d-8e3b-2c0400411163",
   "metadata": {},
   "outputs": [
    {
     "name": "stdout",
     "output_type": "stream",
     "text": [
      "Resource tube_rack was unassigned from the robot.\n",
      "Resource tube_rack was assigned to the robot.\n",
      "Moving tube_rack to spot 2\n"
     ]
    }
   ],
   "source": [
    "gripper.move_labware(tube_rack, dest_spot = 2)"
   ]
  },
  {
   "cell_type": "markdown",
   "id": "72ef74c9-58bb-45cc-a040-6d3954798689",
   "metadata": {},
   "source": [
    "#### Practice using the Gripper"
   ]
  },
  {
   "cell_type": "markdown",
   "id": "782ce887-1d08-4881-8f10-469af5f9a593",
   "metadata": {},
   "source": [
    "Now that we know how to move labware, let's arrange our `tube rack` and `plate` in a way that makes sense for an experiment. Recall that we want to minimize contamination and fly-over spillage. Move the `tube rack` to spot 10, and the `plate` to spot 11."
   ]
  },
  {
   "cell_type": "code",
   "execution_count": null,
   "id": "5aeaa60a-a782-4faf-b208-83bb8ca406ef",
   "metadata": {},
   "outputs": [],
   "source": [
    "gripper.move_labware(tube_rack, dest_spot = ??)\n",
    "gripper.move_labware($$$, dest_spot = ~~~)"
   ]
  },
  {
   "cell_type": "code",
   "execution_count": 52,
   "id": "62ccca14-a979-429b-9aeb-a44d23fbcd2f",
   "metadata": {},
   "outputs": [
    {
     "name": "stdout",
     "output_type": "stream",
     "text": [
      "\n",
      "Deck: 624.3mm x 565.2mm\n",
      "\n",
      "+-----------------+-----------------+-----------------+\n",
      "|                 |                 |                 |\n",
      "| 10: tube_rack   | 11: plate       | 12: trash_co... |\n",
      "|                 |                 |                 |\n",
      "+-----------------+-----------------+-----------------+\n",
      "|                 |                 |                 |\n",
      "|  7: Empty       |  8: Empty       |  9: Empty       |\n",
      "|                 |                 |                 |\n",
      "+-----------------+-----------------+-----------------+\n",
      "|                 |                 |                 |\n",
      "|  4: Empty       |  5: Empty       |  6: Empty       |\n",
      "|                 |                 |                 |\n",
      "+-----------------+-----------------+-----------------+\n",
      "|                 |                 |                 |\n",
      "|  1: Empty       |  2: Empty       |  3: Empty       |\n",
      "|                 |                 |                 |\n",
      "+-----------------+-----------------+-----------------+\n",
      "\n"
     ]
    }
   ],
   "source": [
    "lh.summary()"
   ]
  },
  {
   "cell_type": "markdown",
   "id": "cc1c7389-a823-4fb1-9753-1488fa77585b",
   "metadata": {},
   "source": [
    "### 3.0.2-3 Lids:"
   ]
  },
  {
   "cell_type": "markdown",
   "id": "9865ce93-758e-443f-b4bd-def1f37472ab",
   "metadata": {
    "jp-MarkdownHeadingCollapsed": true
   },
   "source": [
    "##### Lids are currently being worked on in PLR. We are going to hack our way around this issue for this tutorial, though. See [this pull request](https://github.com/PyLabRobot/pylabrobot/pull/161) for more reference."
   ]
  },
  {
   "cell_type": "code",
   "execution_count": 24,
   "id": "c6b714bf-3f49-45aa-b0dc-d6af2ab2a1f7",
   "metadata": {},
   "outputs": [],
   "source": [
    "# Save this code, we will use it to be our hacked Lid\n",
    "plate_lid = Lid(name=\"Lid\",\n",
    "                size_x=127.0,\n",
    "                size_y=86.0,\n",
    "                size_z=0,           # measure the total z height\n",
    "                nesting_z_height=1, # measure overlap between lid and plate\n",
    "                model=\"Cos_96_FL_Lid\")"
   ]
  },
  {
   "cell_type": "markdown",
   "id": "2698b49f-5509-42fd-bad0-f6ecf69d6512",
   "metadata": {},
   "source": [
    "##### Let's demonstrate how to move the lid with our `Gripper`"
   ]
  },
  {
   "cell_type": "code",
   "execution_count": 20,
   "id": "e9b90cec-9e02-413b-be32-c3d82efb30db",
   "metadata": {},
   "outputs": [
    {
     "name": "stdout",
     "output_type": "stream",
     "text": [
      "Resource Lid was assigned to the robot.\n",
      "Adding lid Lid to plate plate\n"
     ]
    }
   ],
   "source": [
    "# Our plate_lid hasn't been added to the robot yet, so we don't have to specify a current_lid_spot\n",
    "gripper.add_lid(plate=plate, lid=plate_lid)"
   ]
  },
  {
   "cell_type": "code",
   "execution_count": 21,
   "id": "104a703c-2706-4a35-a5f2-2c1f6aab198b",
   "metadata": {},
   "outputs": [
    {
     "name": "stdout",
     "output_type": "stream",
     "text": [
      "Resource Lid was unassigned from the robot.\n",
      "Resource Lid was assigned to the robot.\n"
     ]
    }
   ],
   "source": [
    "# We can take off the lid with this function. Remember what you pick up, you must put down somewhere!\n",
    "gripper.remove_lid(plate=plate, lid_dest_spot = 1)"
   ]
  },
  {
   "cell_type": "code",
   "execution_count": 22,
   "id": "8b06fdb5-96ad-4d1b-8319-00018470a066",
   "metadata": {},
   "outputs": [
    {
     "name": "stdout",
     "output_type": "stream",
     "text": [
      "Resource Lid was unassigned from the robot.\n",
      "Resource Lid was assigned to the robot.\n",
      "Moving lid Lid from spot 2 to plate plate\n"
     ]
    }
   ],
   "source": [
    "# Now that the lid lives on the deck somewhere, we need to specify the current_lid_spot.\n",
    "gripper.add_lid(plate=plate, lid=plate_lid, current_lid_spot=2)"
   ]
  },
  {
   "cell_type": "code",
   "execution_count": 23,
   "id": "f20b009d-41d1-4a1c-b0ca-82c6a447e7d7",
   "metadata": {},
   "outputs": [
    {
     "name": "stdout",
     "output_type": "stream",
     "text": [
      "\n",
      "Deck: 624.3mm x 565.2mm\n",
      "\n",
      "+-----------------+-----------------+-----------------+\n",
      "|                 |                 |                 |\n",
      "| 10: Empty       | 11: Empty       | 12: trash_co... |\n",
      "|                 |                 |                 |\n",
      "+-----------------+-----------------+-----------------+\n",
      "|                 |                 |                 |\n",
      "|  7: Empty       |  8: Empty       |  9: Empty       |\n",
      "|                 |                 |                 |\n",
      "+-----------------+-----------------+-----------------+\n",
      "|                 |                 |                 |\n",
      "|  4: Empty       |  5: Empty       |  6: Empty       |\n",
      "|                 |                 |                 |\n",
      "+-----------------+-----------------+-----------------+\n",
      "|                 |                 |                 |\n",
      "|  1: Empty       |  2: tube_rack   |  3: plate       |\n",
      "|                 |                 |                 |\n",
      "+-----------------+-----------------+-----------------+\n",
      "\n"
     ]
    }
   ],
   "source": [
    "lh.summary()"
   ]
  },
  {
   "cell_type": "markdown",
   "id": "713cc10e-4147-468c-b7a5-d3c8282434b6",
   "metadata": {},
   "source": [
    "### Exercises:"
   ]
  },
  {
   "cell_type": "markdown",
   "id": "2d4eb32d-9679-4937-8e32-4858811bdb34",
   "metadata": {},
   "source": [
    "#### Exercise 1: Add another plate to the deck. Move the plate currently on the deck to spot 8, and the new plate to spot 5. We will refer to the plate on spot 5 as `Plate_1` and the plate on spot 8 as `Plate_2`."
   ]
  },
  {
   "cell_type": "code",
   "execution_count": null,
   "id": "94bd74be-def3-434d-8378-64c5a6d34003",
   "metadata": {},
   "outputs": [],
   "source": []
  },
  {
   "cell_type": "markdown",
   "id": "053080fb-304f-4812-8dc3-6cfe69e2e824",
   "metadata": {},
   "source": [
    "#### Exercise 2: Move the `tube rack` to spot 7."
   ]
  },
  {
   "cell_type": "code",
   "execution_count": null,
   "id": "12c621d1-2e8b-4584-9cfc-e8c882a9f932",
   "metadata": {},
   "outputs": [],
   "source": []
  },
  {
   "cell_type": "markdown",
   "id": "efdf9c20-fa2f-47bb-8159-788046910567",
   "metadata": {},
   "source": [
    "#### Exercise 3: Add lids to both plates. Make sure to declare new Lid objects, one for each plate."
   ]
  },
  {
   "cell_type": "code",
   "execution_count": null,
   "id": "5a5a0eee-a177-4150-93d9-5de8d173ee40",
   "metadata": {},
   "outputs": [],
   "source": []
  },
  {
   "cell_type": "markdown",
   "id": "5d9c8ea8-44af-4732-bd42-9c337783e1ef",
   "metadata": {},
   "source": [
    "#### Exercise 4: In one cell, write a liquid handling protocol that accomplishes the following steps:\n",
    "1. Remove lid from `Plate_1`.\n",
    "2. Add 200 uL of Dye to `Column 1` of `Plate_1`.\n",
    "3. Place a lid on `Plate_1`.\n",
    "4. Swap locations of `Plate_1` and `Plate_2`."
   ]
  },
  {
   "cell_type": "code",
   "execution_count": null,
   "id": "350f9d5a-a42b-49aa-95f7-919e07fe4176",
   "metadata": {},
   "outputs": [],
   "source": []
  }
 ],
 "metadata": {
  "kernelspec": {
   "display_name": "Python 3 (ipykernel)",
   "language": "python",
   "name": "python3"
  },
  "language_info": {
   "codemirror_mode": {
    "name": "ipython",
    "version": 3
   },
   "file_extension": ".py",
   "mimetype": "text/x-python",
   "name": "python",
   "nbconvert_exporter": "python",
   "pygments_lexer": "ipython3",
   "version": "3.10.4"
  }
 },
 "nbformat": 4,
 "nbformat_minor": 5
}
