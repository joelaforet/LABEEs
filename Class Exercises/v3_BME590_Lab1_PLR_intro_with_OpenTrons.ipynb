{
 "cells": [
  {
   "cell_type": "markdown",
   "id": "8dbbadf0-ac05-44a6-a303-e7e71691ed9a",
   "metadata": {},
   "source": [
    "# 1 Intro to PyLabRobot: OT2"
   ]
  },
  {
   "cell_type": "markdown",
   "id": "b23bc961-5192-4dd6-a1b8-a17f43530812",
   "metadata": {},
   "source": [
    "## Learning Objectives:\n",
    "**1.0.1** - Learn how to instantiate a deck and add labware\n",
    "\n",
    "**1.0.2** - Use the necessary import statements to run PyLabRobot\n",
    "\n",
    "**1.0.3** - Learn how to use the Protocol Visualizer to simulate an experiment\n",
    "\n",
    "**1.0.4** - Learn and manipulate how labware is arranged on a deck\n",
    "\n",
    "**1.1** - Practice the skills learned in this lesson!"
   ]
  },
  {
   "cell_type": "markdown",
   "id": "dbf282ed-8386-4950-8ac0-79bf1b994936",
   "metadata": {
    "jp-MarkdownHeadingCollapsed": true
   },
   "source": [
    "### 1.0.1 In this tutorial, you will see how to instantiate an OT2 Deck, how to add labware.\n",
    "#### If you ever get stuck, click the circley arrow at the top of the notebook to restart your progress!\n",
    "\n",
    "First we will import `LiquidHandler`, a backend called `ChatterBoxBackend` that prints the text\n",
    "output of our commands, a class `Visualizer` that provides a visualization of the robot deck as we\n",
    "run commands, and a class `OTDeck` that will represent the deck of an OpenTrons OT2, one of\n",
    "the most widely used liquid handling robots. \n",
    "\n",
    "Make sure to also `import opentrons` !"
   ]
  },
  {
   "cell_type": "markdown",
   "id": "0b6ee87a-a089-4a5b-9b60-852d1e1f8874",
   "metadata": {
    "jp-MarkdownHeadingCollapsed": true
   },
   "source": [
    "### 1.0.2 Imports"
   ]
  },
  {
   "cell_type": "code",
   "execution_count": null,
   "id": "e6aabd96-8ec3-412e-96c2-e3b21b76abcb",
   "metadata": {},
   "outputs": [],
   "source": [
    "import sys"
   ]
  },
  {
   "cell_type": "code",
   "execution_count": null,
   "id": "d3efc807-82b3-46e8-90b6-53439f357f19",
   "metadata": {},
   "outputs": [],
   "source": [
    "# Make sure you are running Python version 3.10!\n",
    "print(sys.version)"
   ]
  },
  {
   "cell_type": "code",
   "execution_count": null,
   "id": "9faf434a-2fc5-44cf-8dc9-7a68475d47bf",
   "metadata": {},
   "outputs": [],
   "source": [
    "import pylabrobot"
   ]
  },
  {
   "cell_type": "code",
   "execution_count": null,
   "id": "63636707-3e3c-4aba-b8eb-1e702875d391",
   "metadata": {},
   "outputs": [],
   "source": [
    "# Importing necessary modules from the PyLabRobot package to handle liquids and␣visualize processes.\n",
    "from pylabrobot.liquid_handling import LiquidHandler\n",
    "from pylabrobot.liquid_handling.backends import ChatterBoxBackend\n",
    "from pylabrobot.visualizer.visualizer import Visualizer\n",
    "\n",
    "# This import provides access to OTDeck, which represents the deck of an␣Opentrons robot.\n",
    "from pylabrobot.resources.opentrons import OTDeck\n",
    "# Loading and Plate Management\n",
    "\n",
    "# Imports functions and classes to load resources and manage plate types␣specific to Opentrons robots.\n",
    "from pylabrobot.resources.opentrons.load import *\n",
    "from pylabrobot.resources.opentrons.plates import *\n",
    "\n",
    "# Tracking and Contamination Prevention\n",
    "# Enables tracking of tip usage, liquid volume, and helps prevent␣cross-contamination in experiments.\n",
    "from pylabrobot.resources import set_tip_tracking, set_volume_tracking, set_cross_contamination_tracking\n",
    "\n",
    "# Optional, use when interested in tracking the state of tips and volumes, generally keep this on\n",
    "set_tip_tracking(True), set_volume_tracking(True)\n",
    "\n",
    "# Optional, use when interested in protecting against accidental cross contamination\n",
    "set_cross_contamination_tracking(True)\n",
    "\n",
    "# External Libraries\n",
    "# Importing standard libraries for additional functionality.\n",
    "import opentrons # Provides access to Opentrons API for robot control.\n",
    "import time # Allows for adding delays in the robot's operation for timing␣experiments.\n"
   ]
  },
  {
   "cell_type": "markdown",
   "id": "10bcab3e-f908-479a-8e63-1fecfbe9ecf7",
   "metadata": {
    "jp-MarkdownHeadingCollapsed": true
   },
   "source": [
    "### 1.0.3 Setting up the Deck and Visualizer"
   ]
  },
  {
   "cell_type": "markdown",
   "id": "10f71149-b448-4849-bf8b-f415be2572d1",
   "metadata": {},
   "source": [
    "List of available decks:\n",
    "1. **Opentrons OT2**: deck = OTDeck()\n",
    "2. **Hamilton STAR**: deck = STARDeck()\n",
    "3. **Hamilton STARLet**: deck = STARLetDeck()\n",
    "5. **Hamilton Vantage**: deck = VantageDeck(size=1.3), *size must be either 1.3 or 2.0 (meters)*\n",
    "6. **Tecan EVO100**: deck = EVO100Deck() \n",
    "7. **Tecan EVO150**: deck = EVO150Deck()\n",
    "8. **Tecan EVO200**: deck = EVO200Deck()\n",
    "\n",
    "**NOTE!** If you want to use a deck, you must import it from the PLR code! The general pattern is `from pylabrobot.resources.BLAH import BLAH_DECK`\n",
    "\n",
    "**For this tutorial, we will proceed with using the OpenTrons OT2 deck.**"
   ]
  },
  {
   "cell_type": "markdown",
   "id": "7a612e7b-d246-4c75-874c-1b053ab2aeda",
   "metadata": {},
   "source": [
    "First, we will create an instance of the `LiquidHandler` class. This may take some time to set up, so we run the `setup()` function with the `await` keyword. The set-up is finished when the left side of the cell turns from [*]: to [NUMBER]:"
   ]
  },
  {
   "cell_type": "code",
   "execution_count": null,
   "id": "cb5eb1ee-a1ae-4fd3-afff-78967d6e9f95",
   "metadata": {},
   "outputs": [],
   "source": [
    "lh = LiquidHandler(backend=ChatterBoxBackend(), deck=OTDeck())\n",
    "\n",
    "await lh.setup()"
   ]
  },
  {
   "cell_type": "markdown",
   "id": "c044f917-ae75-4e17-80e1-7ad0f13b64cc",
   "metadata": {},
   "source": [
    "After initializing our `LiquidHandler`, we want to create an instance of a `Visualizer`. This will allow you to see the Deck and follow your protocol in real time. You can see how tips and liquids move as you run commands. Make sure to open the `Visualizer` in another window."
   ]
  },
  {
   "cell_type": "code",
   "execution_count": null,
   "id": "9ce8270d-91ed-4836-a742-ab5375c4fdaa",
   "metadata": {},
   "outputs": [],
   "source": [
    "vis = Visualizer(resource=lh)\n",
    "await vis.setup()"
   ]
  },
  {
   "cell_type": "markdown",
   "id": "70c070bd-f7fd-47c4-9c98-65674fa776fc",
   "metadata": {},
   "source": [
    "### 1.0.4 Adding Labware to the Deck"
   ]
  },
  {
   "cell_type": "markdown",
   "id": "4d0024ee-4722-4b99-afad-3bba67388855",
   "metadata": {},
   "source": [
    "Now, we are ready to add some labware to the deck. **PyLabRobot** has many different labware items already defined. Only import the ones that you need for your protocol. A full list of labware can be found in [`PyLabRobot\\Resources\\opentrons`](https://github.com/PyLabRobot/pylabrobot/tree/main/pylabrobot/resources). You can also create custom labware, but that is out of scope for this tutorial.\n",
    "\n",
    "Let's begin by importing a `TubeRack`, a `TipRack`, and a `Plate`.\n",
    "<details>\n",
    "    <summary>Definitions of Labware:</summary>\n",
    "    \n",
    "* **TubeRack** = Used to hold various tubes, commonly the 2mL Eppendorfs.\n",
    "\n",
    "* **TipRack** = Labware that holds pipette tips.\n",
    "\n",
    "* **Plate** = Well-Plate that one can add liquids to.\n",
    "</details>"
   ]
  },
  {
   "cell_type": "code",
   "execution_count": null,
   "id": "71889711-e068-4e7e-b158-128a9491a1a0",
   "metadata": {},
   "outputs": [],
   "source": [
    "from pylabrobot.resources import (\n",
    "    opentrons_24_tuberack_eppendorf_2ml_safelock_snapcap,\n",
    "    opentrons_96_tiprack_300ul,\n",
    "    corning_96_wellplate_360ul_flat\n",
    ")"
   ]
  },
  {
   "cell_type": "markdown",
   "id": "fae79fcb-7dbb-4145-a03a-eef0da7d6e38",
   "metadata": {},
   "source": [
    "**Note:** The OT2 has **11 spots** for labware and a built-in trash can for discarding tips.\n",
    "\n",
    "When designing a protocol, consider both `layout efficiency` and minimizing contamination. Efficient layout reduces pipette travel time, while thoughtful placement minimizes contamination risks. Place tip racks at the back, stocks in the middle, and plates at the front to allow for `linear movement`. For example, the arm grabs a **tip from slot 7**, aspirates **stock from slot 4**, and dispenses in **slot 1**. Reducing travel time decreases protocol runtime.\n",
    "\n",
    "Minimizing contamination is akin to sterile technique in manual lab work. In automation, prioritize placement **from clean to contaminated**:\n",
    "\n",
    "`clean tips -> fresh media -> bacteria -> waste -> bleach`. Tips should move from **most sterile to least sterile**, and cleaned tips should return to their original position. Avoid allowing contaminated tips to fly over sterile items. For example, in PCR, tips holding primers should not pass over sterile water to prevent downstream contamination.\n",
    "\n",
    "Use `assign_child_at_slot()` to place labware on the deck, passing the desired labware and slot number. Balancing efficiency and contamination control often requires trial and error, with best practices evolving through experimentation and validation.\n",
    "\n",
    "Use `unassign_child_resource()` to remove labware from the deck. Pass in the variable holding the labware, not the spot it is currently at."
   ]
  },
  {
   "cell_type": "markdown",
   "id": "fd54aff2-386e-43b1-8c00-82f51add2c5e",
   "metadata": {},
   "source": [
    "#### Demo Code:"
   ]
  },
  {
   "cell_type": "code",
   "execution_count": null,
   "id": "8849ffbe-ffb2-4784-a1e9-7578a45059d3",
   "metadata": {},
   "outputs": [],
   "source": [
    "# Let's add a tube rack to spot 4\n",
    "# Declare a tube rack object from the labware we imported\n",
    "tube_rack = opentrons_24_tuberack_eppendorf_2ml_safelock_snapcap(\"tube_rack\")\n",
    "\n",
    "# Assign the tube rack to spot 4 of the deck\n",
    "lh.deck.assign_child_at_slot(tube_rack, 4)"
   ]
  },
  {
   "cell_type": "code",
   "execution_count": null,
   "id": "8fd16483-0f8b-488e-bfc5-a10757762096",
   "metadata": {},
   "outputs": [],
   "source": [
    "# If you want to remove the labware, pass it in to the following function\n",
    "lh.deck.unassign_child_resource(tube_rack)"
   ]
  },
  {
   "cell_type": "markdown",
   "id": "cdf6aaf5-7438-4a11-8df3-d85a48bbfdca",
   "metadata": {
    "jp-MarkdownHeadingCollapsed": true
   },
   "source": [
    "#### Your turn!"
   ]
  },
  {
   "cell_type": "code",
   "execution_count": null,
   "id": "c4c43470-21ff-4b3f-9a36-cdc3c0d97403",
   "metadata": {},
   "outputs": [],
   "source": [
    "# When you instantiate a labware, give it a name that will show when you\n",
    "# mouse over it in the visualizer. Make sure to call the labware we imported in the\n",
    "# previous step. Call the variable \"tip_rack\"\n",
    "\n",
    "... = opentrons_blah_blah_tiprack_(\"your name here\")\n",
    "\n",
    "lh.deck.assign_child_at_slot(?, 7)"
   ]
  },
  {
   "cell_type": "code",
   "execution_count": null,
   "id": "3740eb57-80bd-498b-95d5-725b9487c196",
   "metadata": {},
   "outputs": [],
   "source": [
    "# Add in the tube rack we imported\n",
    "# Call it tube_rack\n",
    "\n",
    "... = opentrons_blah_blah_tubeRack(\"your name here\")\n",
    "\n",
    "lh.deck.assign_child_at_slot(?, 4)"
   ]
  },
  {
   "cell_type": "code",
   "execution_count": null,
   "id": "fd6a17ea-b41e-4033-a914-81b2d87635b9",
   "metadata": {},
   "outputs": [],
   "source": [
    "# Plate for Sample Preparation\n",
    "# Call this plate \"prep_plate\"\n",
    "... = corning_blah_blah_plate(\"you get the idea\")\n",
    "\n",
    "lh.deck.assign_child_at_slot(?, 1)"
   ]
  },
  {
   "cell_type": "code",
   "execution_count": null,
   "id": "8f58b38f-d40b-4a07-8162-b31d87fdcb12",
   "metadata": {},
   "outputs": [],
   "source": [
    "print(lh.deck.summary())"
   ]
  },
  {
   "cell_type": "markdown",
   "id": "8af2479a-8c47-49e6-85a1-1c5526ab88d3",
   "metadata": {},
   "source": [
    "## 1.1 Exercises: Practice Building a Deck!"
   ]
  },
  {
   "cell_type": "markdown",
   "id": "90e62d2f-49eb-456c-8821-c57cc8cbb114",
   "metadata": {},
   "source": [
    "Construct the following decks using satisfactory labware of your choosing. Verify your results are correct using the PLR visualizer. Make sure to take a screenshot of each deck, and submit the images with your problem set. Be sure to call `lh.deck.unassign_child_resource(BLAH_BLAH)` as you navigate between exercises.\n",
    "\n",
    "1. Using an OT2 deck, set up a protocol that will use 1 tube rack, 1 96-well plate, and 1 384-well plate.\n",
    "2. Using an OT2 deck, set up a protocol that will use 1 12-well reservoir, 2 96-well plates, and 1 1-well reservoir.\n",
    "3. Using a Hamilton STAR, set up a protocol that will use 3 tube racks, 2 96-well plates, and 2 384-well plates.\n",
    "4. Using a Hamilton STAR, set up a protocol that will use 6 tube racks, 1 96-well plate, 2 384-well plates, 2 12-well reservoirs, and 1 1-well reservoir.\n",
    "5. Using a deck of your choice, set up a protocol for performing a serial dilution of food colorings. You will start with stock solutions of 1M red, blue, and yellow dye. Save this layout because it will be used in a later exercise. Make sure there is a 96-well plate somewhere to do the serial dilution in!"
   ]
  },
  {
   "cell_type": "code",
   "execution_count": null,
   "id": "77d1d251-cf1b-4fb1-9503-5cbf5d303394",
   "metadata": {},
   "outputs": [],
   "source": [
    "# Problem 1"
   ]
  },
  {
   "cell_type": "code",
   "execution_count": null,
   "id": "c922b9f7-c242-428f-98e0-a196930e2187",
   "metadata": {},
   "outputs": [],
   "source": [
    "# Problem 2"
   ]
  },
  {
   "cell_type": "code",
   "execution_count": null,
   "id": "55dd8e0f-b2d0-4768-819d-5b5b18663dab",
   "metadata": {},
   "outputs": [],
   "source": [
    "# Problem 3"
   ]
  },
  {
   "cell_type": "code",
   "execution_count": null,
   "id": "7994b47d-800e-41e1-ba1b-0358a4e887a2",
   "metadata": {},
   "outputs": [],
   "source": [
    "# Problem 4"
   ]
  },
  {
   "cell_type": "code",
   "execution_count": null,
   "id": "13cd5d93-5958-466c-9bec-6b96168302d2",
   "metadata": {},
   "outputs": [],
   "source": [
    "# Problem 5"
   ]
  }
 ],
 "metadata": {
  "kernelspec": {
   "display_name": "Python 3 (ipykernel)",
   "language": "python",
   "name": "python3"
  },
  "language_info": {
   "codemirror_mode": {
    "name": "ipython",
    "version": 3
   },
   "file_extension": ".py",
   "mimetype": "text/x-python",
   "name": "python",
   "nbconvert_exporter": "python",
   "pygments_lexer": "ipython3",
   "version": "3.10.4"
  }
 },
 "nbformat": 4,
 "nbformat_minor": 5
}
