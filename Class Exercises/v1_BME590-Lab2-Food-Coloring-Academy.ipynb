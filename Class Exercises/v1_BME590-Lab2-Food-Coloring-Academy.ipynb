{
 "cells": [
  {
   "cell_type": "markdown",
   "id": "b48061fa-4375-4eda-9860-20e0a4973c09",
   "metadata": {},
   "source": [
    "# BME 590: Lab 2 - Food Coloring Academy\n",
    "## In this tutorial, we will build on the skills learned in lab 1 and perform some operations with a multi-channel pipette.\n",
    "#### Thank you to Maggie Gatongi for helping with the design of this notebook and being the first graduate of food coloring academy. You rock! :)\n",
    "\n",
    "\n",
    "Recall, we begin by importing `LiquidHandler`, a backend called `ChatterBoxBackend` that prints the text output of our commands, a class `Visualizer` that provides a visualization of the robot deck as we run commands, and a class `OTDeck` that will represent the deck of an OpenTrons OT2.\n",
    "\n",
    "Make sure to also `import opentrons` !"
   ]
  },
  {
   "cell_type": "markdown",
   "id": "d537590e-9f70-4bf7-afea-7b0afe57c4fa",
   "metadata": {},
   "source": [
    "### Imports"
   ]
  },
  {
   "cell_type": "code",
   "execution_count": 13,
   "id": "da2bd9c9-5147-432c-a30d-5b65b14903ee",
   "metadata": {},
   "outputs": [],
   "source": [
    "import pylabrobot\n",
    "\n",
    "from pylabrobot.liquid_handling import LiquidHandler\n",
    "from pylabrobot.liquid_handling.backends import ChatterBoxBackend\n",
    "from pylabrobot.visualizer.visualizer import Visualizer\n",
    "from pylabrobot.resources.opentrons import OTDeck\n",
    "\n",
    "from pylabrobot.resources.opentrons.load import *\n",
    "from pylabrobot.resources.opentrons.plates import *\n",
    "\n",
    "from pylabrobot.resources import set_tip_tracking, set_volume_tracking, set_cross_contamination_tracking\n",
    "set_tip_tracking(True), set_volume_tracking(True)\n",
    "\n",
    "# Optional, use when interested in protecting against accidental cross contamination\n",
    "set_cross_contamination_tracking(True)\n",
    "\n",
    "import opentrons\n",
    "import time"
   ]
  },
  {
   "cell_type": "markdown",
   "id": "3462cb04-cd04-4d49-8dde-9aca5de09a69",
   "metadata": {},
   "source": [
    "### Set up the Deck and Visualizer"
   ]
  },
  {
   "cell_type": "code",
   "execution_count": null,
   "id": "6acc87fd-7b2f-413d-9e6c-8fa2560fff9c",
   "metadata": {},
   "outputs": [],
   "source": [
    "# Make sure to use the ChatterBoxBackend() and the OTDeck()\n",
    "lh = LiquidHandler(backend=ChatterBoxBackend(), deck=OTDeck())\n",
    "\n",
    "await lh.setup()\n",
    "\n",
    "vis = Visualizer(resource=lh)\n",
    "await vis.setup()"
   ]
  },
  {
   "cell_type": "markdown",
   "id": "d73f825e-12d5-463f-8133-a919f6ca5c3f",
   "metadata": {},
   "source": [
    "### Add labware to the deck"
   ]
  },
  {
   "cell_type": "code",
   "execution_count": 4,
   "id": "9855373b-28c0-48d3-a414-2bc7e51f1b14",
   "metadata": {},
   "outputs": [],
   "source": [
    "from pylabrobot.resources import (\n",
    "    corning_96_wellplate_360ul_flat,\n",
    "    opentrons_24_tuberack_eppendorf_2ml_safelock_snapcap,\n",
    "    opentrons_96_tiprack_300ul,\n",
    "    nest_12_reservoir_15ml,\n",
    "    nest_96_wellplate_2ml_deep\n",
    ")"
   ]
  },
  {
   "cell_type": "markdown",
   "id": "b2057c48-7f94-48bb-acd2-93c45db016ef",
   "metadata": {},
   "source": [
    "We'll begin this lesson by using our skills from last time and setting up a deck. We are going to model the transfer of liquids which start in 2mL eppendorf tubes to a 96-well plate. Here's a refresher on how to build a deck!"
   ]
  },
  {
   "cell_type": "code",
   "execution_count": null,
   "id": "f4771685-2aac-431f-8697-e27dee33286d",
   "metadata": {},
   "outputs": [],
   "source": [
    "# Let's add a tube rack to spot 4\n",
    "# Declare a tube rack object from the labware we imported\n",
    "tube_rack = opentrons_24_tuberack_eppendorf_2ml_safelock_snapcap(\"tube_rack\")\n",
    "\n",
    "# Assign the tube rack to spot 4 of the deck\n",
    "lh.deck.assign_child_at_slot(tube_rack, 4)\n",
    "\n",
    "# Declare a tip rack object\n",
    "tip_rack =  opentrons_96_tiprack_300ul(\"tip_rack_1\")\n",
    "\n",
    "# Assign the tip rack to spot 7\n",
    "lh.deck.assign_child_at_slot(tip_rack, 7)\n",
    "\n",
    "# Declare a plate object\n",
    "plate =  corning_96_wellplate_360ul_flat(\"prep_plate\")\n",
    "\n",
    "# Assign the plate to spot 1\n",
    "lh.deck.assign_child_at_slot(plate, 1)"
   ]
  },
  {
   "cell_type": "markdown",
   "id": "d2db1f0d-599f-46ef-b3aa-e312c2c95db2",
   "metadata": {},
   "source": [
    "### 1.0.5 Adding Liquids to the Deck"
   ]
  },
  {
   "cell_type": "markdown",
   "id": "c0e868c8-89f5-4305-9972-c8bea5540a16",
   "metadata": {},
   "source": [
    "Let's manually load some liquids to our `tube_rack`. In the real world, this is something you would do as preparation for running an automatic protocol. We can add up to the `max_volume` of the tube. If you go over this number, **PyLabRobot** will throw an error. We shall add 2000µL of 4 different dyes to the first column of our `tube_rack`. This corresponds to wells *A1, B1, C1, and D1*.\n",
    "\n",
    "To iterate over locations on labware, we use the `traverse()` function. This produces a [generator object](https://www.geeksforgeeks.org/generators-in-python/) that we use the `next` keyword on to yield our desired wells.\n",
    "\n",
    "`traverse()` takes in two arguments: **batch_size** is the amount of wells to return, and **direction** is how to iterate over the wells. In our case, we use `\"down\"` to return the wells column wise.\n",
    "\n",
    "<details>\n",
    "    <summary>More info on <b>direction:</summary>\n",
    "\n",
    "* `\"down\"`, `\"snake_down\"`, `\"right\"`, and `\"snake_right\"` start at the top left item **(A1)**.\n",
    "        \n",
    "* `\"up\"` and `\"snake_up\"` start at the bottom left **(H1)**.\n",
    "    \n",
    "* `\"left\"` and `\"snake_left\"` start at the top right **(A12)**.\n",
    "\n",
    "* The `snake` directions alternate between going in the given direction and going in the opposite direction. For example, `\"snake_down\"` will go from A1 to H1, then H2 to A2, then A3 to H3, etc.\n",
    "</details>"
   ]
  },
  {
   "cell_type": "code",
   "execution_count": null,
   "id": "92189f24-2010-4028-a41b-cf0d02b9280f",
   "metadata": {},
   "outputs": [],
   "source": [
    "first_col_tubes = next(tube_rack.traverse(batch_size=4, direction='down'))\n",
    "first_col_tubes"
   ]
  },
  {
   "cell_type": "markdown",
   "id": "4966eba7-9fb4-4831-b81a-194c5c5650fd",
   "metadata": {},
   "source": [
    "Use the `tracker.set_liquids()` function to put liquid in a `tube`. The `tracker` class contains all of the methods associated with keeping record of how much/what kind of liquid is in a given container.\n",
    "\n",
    "Pass in a string for **\"Liquid_Type\"** and a number for **Volume** to this function.\n",
    "\n",
    "Let's add our dyes to the tubes in `first_col_tubes`."
   ]
  },
  {
   "cell_type": "code",
   "execution_count": 7,
   "id": "6685bd43-084b-46ae-a7e0-7b95164f9ec0",
   "metadata": {},
   "outputs": [],
   "source": [
    "for i in range(len(first_col_tubes)):\n",
    "    # [(liquid, volume)]\n",
    "    first_col_tubes[i].tracker.set_liquids([(f\"Dye_{i}\", 2000)])"
   ]
  },
  {
   "cell_type": "markdown",
   "id": "65628db0-7d4c-45ab-83a8-0c9f3040f5d3",
   "metadata": {},
   "source": [
    "##### Here's a Utility function for printing all of the filled spots of any labware."
   ]
  },
  {
   "cell_type": "code",
   "execution_count": 8,
   "id": "65811583-a5ae-43ba-a7ef-a6eddde66323",
   "metadata": {},
   "outputs": [],
   "source": [
    "def print_filled_spots_of_labware(labware):\n",
    "    \n",
    "    # Retrieve all children within the specified labware (tubes of a tube rack, wells of a wellplate, etc)\n",
    "    # Note, for this explanation I am using the word \"tube\" to refer to the children of the parent labware\n",
    "    # Actually, this can be anything, so if you call the function on a well plate it will return the individual wells!\n",
    "\n",
    "    # Get all children of the input labware\n",
    "    all_tubes = labware.get_all_children()\n",
    "\n",
    "    # Flag to check if all tubes are empty\n",
    "    all_empty = True\n",
    "\n",
    "    # Iterate through each tube in the labware\n",
    "    for tube in all_tubes:\n",
    "        # Access the current status of liquids in the tube\n",
    "        liquid = tube.tracker.liquids\n",
    "\n",
    "        # Check if the tube contains any liquid\n",
    "        if liquid != []:\n",
    "            # Print the position and contents of the tube\n",
    "            print(f\"Spot {tube.name.split('_')[-1]} contains:\")\n",
    "\n",
    "            # Extract and store the name of the liquid\n",
    "            name = liquid[0][0]\n",
    "            # Extract and store the volume of the liquid\n",
    "            vol = liquid[0][1]\n",
    "\n",
    "            # Output the volume and name of the liquid in the tube\n",
    "            print(f\"{vol}uL of {name}\")\n",
    "\n",
    "            # Update the flag since this tube is not empty\n",
    "            all_empty = False\n",
    "            \n",
    "    # Check if all tubes were empty and print message if true\n",
    "    if all_empty:\n",
    "        print(\"Entire labware is empty!\")"
   ]
  },
  {
   "cell_type": "markdown",
   "id": "bd524d32-e542-4f38-877b-25e23ac20d12",
   "metadata": {},
   "source": [
    "##### Let's give it a call!"
   ]
  },
  {
   "cell_type": "code",
   "execution_count": null,
   "id": "9ad7cb5b-b4bd-4075-84de-d97bcc29be78",
   "metadata": {},
   "outputs": [],
   "source": [
    "print_filled_spots_of_labware(tube_rack)"
   ]
  },
  {
   "cell_type": "code",
   "execution_count": null,
   "id": "20a13094-2673-4ae6-9fb6-b1f181bbf5cf",
   "metadata": {},
   "outputs": [],
   "source": [
    "# Try calling the function on your plate!\n",
    "# Hint, pass the plate in as a parameter\n",
    "# Hint, Hint, make sure the name of the function is correct ;)\n",
    "print_fi1led_spot_of_1abware(???)"
   ]
  },
  {
   "cell_type": "markdown",
   "id": "e6f05413-3c22-4cb3-91fe-0d80db524f55",
   "metadata": {},
   "source": [
    "### 1.0.6 Moving Liquids from Point A to Point B"
   ]
  },
  {
   "cell_type": "markdown",
   "id": "a72d763d-70c9-4eef-ae13-119f6ae14540",
   "metadata": {},
   "source": [
    "Now that we've added some dyes to our tube rack, let's use the robot to move some liquid to our `plate`. The first step of a liquid transfer is acquiring a tip.\n",
    "\n",
    "You can acquire a tip by calling `lh.pick_up_tips()`, and passing in the `TipSpots` of the tips you want to retrieve. `TipSpots` are indexed the same way that wells are.\n",
    "\n",
    "When a tip is picked up from a `TipRack`, it's location will turn white on the visualizer. To see what tips are currently on the robot, call `lh.head`. This returns a dictionary where the keys are the indices of the different channels of the main pipettor, and where the values are instances of the `TipTracker` class, allowing you to get information about how tips move on and off of a given channel.\n",
    "\n",
    "If you want to reset the state of tips on a robot, call `lh.return_tips()`. This function will automatically return the tips to their original locations."
   ]
  },
  {
   "cell_type": "code",
   "execution_count": null,
   "id": "d5efe01f-c1c9-4e5a-8e64-8591209f6cf8",
   "metadata": {},
   "outputs": [],
   "source": [
    "# Careful! Don't call this function unless you currently have tips on the robot. If you attempt to call\n",
    "# return_tips() on an empty head, an error will occur!\n",
    "await lh.return_tips()"
   ]
  },
  {
   "cell_type": "markdown",
   "id": "cba2b62c-a617-489e-99c7-6ebebd4c9367",
   "metadata": {},
   "source": [
    "Let's try picking up 8 tips along the diagonal."
   ]
  },
  {
   "cell_type": "code",
   "execution_count": null,
   "id": "059907ea-8cc4-4c88-beca-3bcc7c4011db",
   "metadata": {},
   "outputs": [],
   "source": [
    "await lh.pick_up_tips(tip_rack[\"A1\", \"B2\", \"C3\", \"D4\", \"E5\", \"F6\", \"G7\", \"H8\"])"
   ]
  },
  {
   "cell_type": "markdown",
   "id": "e6b4e3a8-315e-4a08-ab5f-58066a0dce5f",
   "metadata": {},
   "source": [
    "Rather than use `lh.return_tips()` all of the time, you can also call `lh.drop_tips()` and pass in specifically where to place the tip, and what channel's tip to drop."
   ]
  },
  {
   "cell_type": "code",
   "execution_count": null,
   "id": "f8825a5f-502c-4917-a067-c126234ab6c9",
   "metadata": {},
   "outputs": [],
   "source": [
    "await lh.drop_tips(tip_spots = tip_rack[\"A1\", \"B2\", \"C3\", \"D4\", \"E5\", \"F6\", \"G7\", \"H8\"],\n",
    "                   use_channels = [0,1,2,3,4,5,6,7])"
   ]
  },
  {
   "cell_type": "markdown",
   "id": "21db8618-3d2d-4dd4-b638-87fdee97c734",
   "metadata": {},
   "source": [
    "The order in which you pass in the `tip_spots` and the `use_channels` lists will determine which channel gets which tip. Take a look!"
   ]
  },
  {
   "cell_type": "code",
   "execution_count": null,
   "id": "7dd27c34-68c6-4c03-93a1-808c046c7508",
   "metadata": {},
   "outputs": [],
   "source": [
    "await lh.pick_up_tips(tip_spots = tip_rack[\"A1\", 'C3', \"E7\"], use_channels = [2,0,1])"
   ]
  },
  {
   "cell_type": "code",
   "execution_count": null,
   "id": "996f0c29-7026-4834-b2f6-e80654713439",
   "metadata": {},
   "outputs": [],
   "source": [
    "lh.head"
   ]
  },
  {
   "cell_type": "markdown",
   "id": "ef08d3a6-af92-41fc-9c2d-244955b6b324",
   "metadata": {},
   "source": [
    "##### Here are some utility functions that will print the status of tips on the pipetter. If there is a tip on a channel, this function will output its origin."
   ]
  },
  {
   "cell_type": "code",
   "execution_count": 2,
   "id": "71a7d63b-0c7b-49d2-af80-f356e980c07c",
   "metadata": {},
   "outputs": [],
   "source": [
    "def print_channels_tip_origin(lh):\n",
    "    # Prints the origin location of all tips currently on the robot\n",
    "    cur_pipetter = lh.head\n",
    "\n",
    "    for channel in cur_pipetter:\n",
    "        print(f\"Channel {channel}:\")\n",
    "\n",
    "        tip_tracker = lh.head[channel]\n",
    "        \n",
    "        if tip_tracker.has_tip == True:\n",
    "            print(tip_tracker.get_tip_origin())\n",
    "        else:\n",
    "            print(\"No tip present.\")\n",
    "        print()"
   ]
  },
  {
   "cell_type": "code",
   "execution_count": 3,
   "id": "928ba917-665b-4e1c-afdd-5d6c27c6053f",
   "metadata": {},
   "outputs": [],
   "source": [
    "def print_channel_status(lh):\n",
    "    # Prints the status of liquids, if present, in each channel\n",
    "    cur_pipetter = lh.head\n",
    "\n",
    "    for channel in cur_pipetter:\n",
    "        print(f\"Channel {channel}:\")\n",
    "\n",
    "        tip_tracker = lh.head[channel]\n",
    "        \n",
    "        if tip_tracker.has_tip == True:\n",
    "            tip = tip_tracker.get_tip()\n",
    "            print(tip.tracker.liquids)\n",
    "        else:\n",
    "            print(\"No tip present.\")\n",
    "        print()"
   ]
  },
  {
   "cell_type": "markdown",
   "id": "35a83cd4-567e-434c-834a-f23b8a8028d0",
   "metadata": {},
   "source": [
    "##### Try it out!"
   ]
  },
  {
   "cell_type": "code",
   "execution_count": null,
   "id": "0f679fb5-5619-47bf-99c5-8d7a3c22d83d",
   "metadata": {},
   "outputs": [],
   "source": [
    "print_channels_tip_origin(lh)"
   ]
  },
  {
   "cell_type": "code",
   "execution_count": null,
   "id": "3c156ee6-4d7e-46bb-a006-9b4d3272225a",
   "metadata": {},
   "outputs": [],
   "source": [
    "print_channel_status(lh)"
   ]
  },
  {
   "cell_type": "markdown",
   "id": "e194b4e5-8e68-448c-ad48-b3e5bd21ddb5",
   "metadata": {},
   "source": [
    "##### You also don't need to specify channels in order. If you wanted to skip channel 3, we can do so by just passing in the next channel index and skipping 3."
   ]
  },
  {
   "cell_type": "code",
   "execution_count": null,
   "id": "833e9450-e128-4473-887f-687cf0f64cef",
   "metadata": {},
   "outputs": [],
   "source": [
    "await lh.pick_up_tips(tip_rack[\"D3\"], use_channels = [4])\n",
    "print(\"\\n\")\n",
    "print(lh.head[4])\n",
    "print(\"\\n\")\n",
    "time.sleep(2)\n",
    "await lh.return_tips()"
   ]
  },
  {
   "cell_type": "code",
   "execution_count": null,
   "id": "11c8a00e-6126-475a-a299-11aa35171e03",
   "metadata": {},
   "outputs": [],
   "source": [
    "await lh.drop_tips(tip_spots = tip_rack[\"E7\"], use_channels = [2])"
   ]
  },
  {
   "cell_type": "markdown",
   "id": "760f1a1a-9be1-4804-b3bd-4e1ef9afbce9",
   "metadata": {},
   "source": [
    "##### If you want to check if a spot in the tip rack has a tip, call `TipSpot.has_tip()`. This could be useful if you are writing a script with many operations and want to automatically calculate where you should grab your next tip from."
   ]
  },
  {
   "cell_type": "code",
   "execution_count": null,
   "id": "017957c9-d871-4714-afef-c1402a216ea3",
   "metadata": {},
   "outputs": [],
   "source": [
    "tip_rack[\"A1\"][0].has_tip()"
   ]
  },
  {
   "cell_type": "markdown",
   "id": "186dc0e2-fd05-4b77-9a4a-cac894e93205",
   "metadata": {},
   "source": [
    "#### Let's do a real liquid transfer!"
   ]
  },
  {
   "cell_type": "code",
   "execution_count": null,
   "id": "862cd7b8-d77e-4516-b822-51d965be29aa",
   "metadata": {},
   "outputs": [],
   "source": [
    "# Let's try doing a real liquid transfer now! We'll move 200 uL of dye_0 into the plate.\n",
    "\n",
    "# Grab a tip from A1 of the tip rack\n",
    "await lh.pick_up_tips(tip_rack[\"A1\"])\n",
    "\n",
    "# Aspirate 200 uL of dye from A1 of the tube rack\n",
    "await lh.aspirate(tube_rack[\"A1\"], vols=[200])\n",
    "time.sleep(2)\n",
    "\n",
    "# Dispense 200 uL of Dye_1 in A1 of the plate\n",
    "await lh.dispense(plate[\"A1\"], vols=[200])\n",
    "time.sleep(2)\n",
    "\n",
    "# Return tips to the rack. Note, in a real experiment you would discard the tips.\n",
    "# await lh.discard_tips()\n",
    "await lh.return_tips()"
   ]
  },
  {
   "cell_type": "code",
   "execution_count": null,
   "id": "0d517cb7-9c28-4f2d-9a16-848a65aa4cbf",
   "metadata": {},
   "outputs": [],
   "source": [
    "print_filled_spots_of_labware(plate)"
   ]
  },
  {
   "cell_type": "markdown",
   "id": "6d242b9b-32ba-4995-844b-434f985635e2",
   "metadata": {},
   "source": [
    "#### Cross Contamination Demo"
   ]
  },
  {
   "cell_type": "code",
   "execution_count": null,
   "id": "e3dcbaa0-1af0-43a1-826d-25129a3ff4bc",
   "metadata": {},
   "outputs": [],
   "source": [
    "# PyLabRobot has a built in feature that will save you if you accidentally aspirate\n",
    "# from a well with a contaminated tip. Recall that the tip in A1 was used for dye_0.\n",
    "# Let's see what happens when we try aspirating dye_1 with the same tip!\n",
    "\n",
    "await lh.pick_up_tips(tip_rack[\"A1\"])\n",
    "time.sleep(1)\n",
    "\n",
    "await lh.aspirate(tube_rack[\"B1\"], vols=[200])\n",
    "time.sleep(1)\n",
    "\n",
    "await lh.dispense(plate[\"B1\"], vols=[200])\n",
    "time.sleep(1)\n",
    "\n",
    "await lh.return_tips()"
   ]
  },
  {
   "cell_type": "markdown",
   "id": "e95a4802-9f83-4707-9146-9eab00357621",
   "metadata": {},
   "source": [
    "## 1.1 Basic Liquid Handling Exercises:"
   ]
  },
  {
   "cell_type": "markdown",
   "id": "e60e997f-bcdd-4633-b11d-7ea08a0402fd",
   "metadata": {},
   "source": [
    "Complete the following operations using the deck we created in the tutorial. As a reminder, there should be a `tip rack on spot 7`, a `tube rack on spot 4`, and a `96 well plate on spot 1`.\n",
    "\n",
    "1. Add `100 uL of Dye_1` to well `A1`.\n",
    "2. Add `200 uL of Dye_2` to well `B7`.\n",
    "3. Add `50 uL of Dye_1` **and** `50 uL of Dye_3` to well `C9`.\n",
    "4. Add `25 uL of Dye 1`, `25 uL of Dye 2`, `25 uL of Dye 3`, and `25 uL of Dye 4` to well `D12`.\n",
    "5. Add `50 uL of Dye 1` and `50 uL of the solution in D12` to well `A3`.\n",
    "6. Add `1800 uL of Dye 1` to well `F12`. *Hint, you have dye on the plate already*\n",
    "\n",
    "**Use multiple tips as needed to avoid `Cross Contamination`**.\n",
    "\n",
    "**Remember to discard used tips in the trash can when finished!**"
   ]
  },
  {
   "cell_type": "code",
   "execution_count": 5,
   "id": "be2fc7b4-da3c-43b7-8508-0b6a7d295afa",
   "metadata": {},
   "outputs": [],
   "source": [
    "# Problem 1"
   ]
  },
  {
   "cell_type": "code",
   "execution_count": 6,
   "id": "f3a99b2d-0ef7-4a8a-a797-df7cdbd4fb8c",
   "metadata": {},
   "outputs": [],
   "source": [
    "# Problem 2"
   ]
  },
  {
   "cell_type": "code",
   "execution_count": 7,
   "id": "3bd5f15f-816d-48e3-b8ac-3c689c498efa",
   "metadata": {},
   "outputs": [],
   "source": [
    "# Problem 3"
   ]
  },
  {
   "cell_type": "code",
   "execution_count": 8,
   "id": "6eae37cb-7acd-4e25-8bd1-6a7d565b733a",
   "metadata": {},
   "outputs": [],
   "source": [
    "# Problem 4"
   ]
  },
  {
   "cell_type": "code",
   "execution_count": 9,
   "id": "c59c962c-adae-4532-8cf8-1071f04f05aa",
   "metadata": {},
   "outputs": [],
   "source": [
    "# Problem 5"
   ]
  },
  {
   "cell_type": "code",
   "execution_count": 10,
   "id": "b5941fed-4b39-4ab1-b02b-680caffe3301",
   "metadata": {},
   "outputs": [],
   "source": [
    "# Problem 6"
   ]
  },
  {
   "cell_type": "markdown",
   "id": "0a49079d-6427-416c-9039-3a0dd4a4ed04",
   "metadata": {},
   "source": [
    "## 1.2.0 Advanced Liquid Handling: Mixing liquids and making new compounds!"
   ]
  },
  {
   "cell_type": "markdown",
   "id": "7f3c2e9c-ff25-498b-8ae8-ce31fc7d4800",
   "metadata": {},
   "source": [
    "Now that we've established how to move liquids around, let's try something a little more interesting. In this section, you will experiment with mixing various colors of dye to make a rainbow!"
   ]
  },
  {
   "cell_type": "markdown",
   "id": "862c9fb6-ade4-4330-9618-5e71d969c96a",
   "metadata": {},
   "source": [
    "### Reset the deck"
   ]
  },
  {
   "cell_type": "markdown",
   "id": "fa66e9d4-1540-49be-97c5-b89799f75768",
   "metadata": {},
   "source": [
    "Recall that the command to remove labware is `lh.deck.unassign_child_resource(LABWARE)`"
   ]
  },
  {
   "cell_type": "code",
   "execution_count": null,
   "id": "90ca67a5-935b-4526-83fd-3358d978a355",
   "metadata": {},
   "outputs": [],
   "source": [
    "# Make sure that you remove all of the labware currently on the deck\n",
    "lh.deck.unassign_child_resource(tube_rack)\n",
    "lh.deck.unassign_child_resource(plate)\n",
    "lh.deck.unassign_child_resource(tip_rack)"
   ]
  },
  {
   "cell_type": "markdown",
   "id": "76cce88b-f9c9-4bc4-a452-05b3e5dea3cf",
   "metadata": {},
   "source": [
    "### Add food coloring stocks to the deck"
   ]
  },
  {
   "cell_type": "code",
   "execution_count": null,
   "id": "0dae995a-5ca3-43c8-91ea-f359f9143956",
   "metadata": {},
   "outputs": [],
   "source": [
    "# To practice moving liquids from different locations, \n",
    "# we will place each dye in its own labware. This is horribly inefficient\n",
    "# in practice, but for this tutorial is a good way to learn how to index \n",
    "# different labware.\n",
    "\n",
    "blue_reservoir = nest_96_wellplate_2ml_deep(\"blue_reservoir\")\n",
    "lh.deck.assign_child_at_slot(blue_reservoir, 7)\n",
    "\n",
    "red_reservoir = nest_96_wellplate_2ml_deep(\"red_reservoir\")\n",
    "lh.deck.assign_child_at_slot(red_reservoir, 8)\n",
    "\n",
    "yellow_reservoir = nest_12_reservoir_15ml(\"yellow_reservoir\")\n",
    "lh.deck.assign_child_at_slot(yellow_reservoir, 4)\n",
    "\n",
    "prep_plate = corning_96_wellplate_360ul_flat(\"prep_plate\")\n",
    "lh.deck.assign_child_at_slot(prep_plate, 1)\n",
    "\n",
    "tr_1 = opentrons_96_tiprack_300ul(\"tr_1\")\n",
    "lh.deck.assign_child_at_slot(tr_1, 6)"
   ]
  },
  {
   "cell_type": "markdown",
   "id": "f46a0899-124f-47b2-a72c-6c45d9d3fd66",
   "metadata": {},
   "source": [
    "#### Key Python Concepts:\n",
    "* [for loops](https://www.geeksforgeeks.org/python-for-loops/) - Useful when you need to iterate over many items with a defined numerical structure.\n",
    "* [f-strings](https://www.geeksforgeeks.org/formatted-string-literals-f-strings-python/) - Useful when you need to change the contents of a string according to some variable, see below for example."
   ]
  },
  {
   "cell_type": "code",
   "execution_count": 27,
   "id": "3fbafc9d-3de6-447d-9fe2-a839b2ff3969",
   "metadata": {},
   "outputs": [],
   "source": [
    "# Since we are simulating multi-channel pipette use, we\n",
    "# will add dye to the entire first column\n",
    "\n",
    "# this is an array of all of the capital letters\n",
    "# save this code as it may help you later!\n",
    "\n",
    "cptl_alphabet = [chr(i) for i in range(65, 91)]\n",
    "\n",
    "for i in range(8):\n",
    "    # Using the f-string allows us to iterate through \n",
    "    # wells A1 -> B1 -> C1 -> ... -> H1\n",
    "    # all in one line of code!\n",
    "    blue_reservoir[f'{cptl_alphabet[i]}1'][0].tracker.set_liquids([(\"Blue Dye\", 2000)])\n",
    "    red_reservoir[f'{cptl_alphabet[i]}1'][0].tracker.set_liquids([(\"Red Dye\", 2000)])"
   ]
  },
  {
   "cell_type": "code",
   "execution_count": 28,
   "id": "1f06542e-0114-4a9b-b037-87c5f51f7f68",
   "metadata": {},
   "outputs": [],
   "source": [
    "# The yellow reservoir needs a slightly different treatment\n",
    "# to load it. Its wells are all row A, and there is only\n",
    "# 1 well per column to fill\n",
    "\n",
    "yellow_reservoir['A4'][0].tracker.set_liquids([(\"Yellow Dye\", 2000)])"
   ]
  },
  {
   "cell_type": "markdown",
   "id": "6c4e124f-40fe-4001-8bd7-2a8b4cf6cb54",
   "metadata": {},
   "source": [
    "### Exercise 1: Two red columns"
   ]
  },
  {
   "cell_type": "markdown",
   "id": "f3e5e35a-6e04-4d57-a53d-475e6e6173f9",
   "metadata": {},
   "source": [
    "For your first task, write and execute code that adds 200 uL of `Red Dye` to columns 1 and 2 of the `Plate`."
   ]
  },
  {
   "cell_type": "code",
   "execution_count": null,
   "id": "90dfe562-4ad2-45f2-8ce0-7d74c7075ce7",
   "metadata": {},
   "outputs": [],
   "source": []
  },
  {
   "cell_type": "markdown",
   "id": "6cb69db6-9f50-4752-8b27-0a220777d395",
   "metadata": {},
   "source": [
    "### Exercise 2: Two blue columns"
   ]
  },
  {
   "cell_type": "markdown",
   "id": "9d403d03-59ec-4ca6-b683-9efbe718d2e8",
   "metadata": {},
   "source": [
    "Now, write and execute code that adds 200 uL of `Blue Dye` to columns 3 and 4 of the `Plate`."
   ]
  },
  {
   "cell_type": "code",
   "execution_count": null,
   "id": "f12152eb-1de6-4a16-9c41-9f1312fc6f41",
   "metadata": {},
   "outputs": [],
   "source": []
  },
  {
   "cell_type": "markdown",
   "id": "f94dbeae-e9eb-49d9-a0cc-f6e16ccd7b77",
   "metadata": {},
   "source": [
    "### Exercise 3: Moving liquids from one end of the plate to the other"
   ]
  },
  {
   "cell_type": "markdown",
   "id": "31a2573b-70f0-4b9f-8b67-c1ca517145a6",
   "metadata": {},
   "source": [
    "Pretty fun stuff, right? Now let's work on an intra-plate transfer. Using the dye already on the `Plate`, add 50 uL of `Red Dye` to column 5, and 50 uL of `Blue Dye` to column 6."
   ]
  },
  {
   "cell_type": "code",
   "execution_count": null,
   "id": "ae10fe4c-ca51-467b-8cc2-8359a89638e2",
   "metadata": {},
   "outputs": [],
   "source": []
  },
  {
   "cell_type": "markdown",
   "id": "b43e2498-3aa5-44cf-acee-3353cca3e1f9",
   "metadata": {},
   "source": [
    "### Exercise 4: Purple Party! Mixing liquids"
   ]
  },
  {
   "cell_type": "markdown",
   "id": "5ea5bc83-4172-4b44-8f85-2c7a8dd3ebbe",
   "metadata": {},
   "source": [
    "Alright, let's do something crazy. Using dye already on the `Plate`, make 100 uL of `Purple Dye` in column 6. To make `Purple Dye`, add equal parts of `Red Dye` and `Blue Dye` to a well. Make sure to `mix` the solution so that the dyes combine into the new color.\n",
    "\n",
    "* Note, you will have to use your imagination here. `PyLabRobot` doesn't have official dye support yet, and all liquids appear red. Joe is going to work on this later!"
   ]
  },
  {
   "cell_type": "markdown",
   "id": "ef9b4aa9-0e88-4025-8eb3-42ee88a1e907",
   "metadata": {},
   "source": [
    "#### Mixing Hint!"
   ]
  },
  {
   "cell_type": "markdown",
   "id": "7372f2c1-a7c2-4d14-89be-f267869a2793",
   "metadata": {},
   "source": [
    "##### Quick reference on [functions](https://www.geeksforgeeks.org/python-functions/)"
   ]
  },
  {
   "cell_type": "code",
   "execution_count": null,
   "id": "805c84d2-45ae-4003-b859-95ae6901a74b",
   "metadata": {},
   "outputs": [],
   "source": [
    "# A mixing operation is just a repeated set of aspirate\n",
    "# and dispense instructions. You can write this as your\n",
    "# own Python function, or just write a for loop each time.\n",
    "# For your own sake and sanity, we recommend writing a function!\n",
    "\n",
    "num_mixes = 4\n",
    "\n",
    "await lh.pick_up_tips(tr_1[\"A1\"])\n",
    "time.sleep(1)\n",
    "\n",
    "for _ in range(num_mixes):\n",
    "    await lh.aspirate(plate[\"B1\"], vols=[200])\n",
    "    time.sleep(1)\n",
    "    await lh.dispense(plate[\"B1\"], vols=[200])\n",
    "\n",
    "await lh.discard_tips()"
   ]
  },
  {
   "cell_type": "markdown",
   "id": "981935ce-72d3-46ef-8b57-6df454a5a362",
   "metadata": {},
   "source": [
    "#### Back to the exercise!"
   ]
  },
  {
   "cell_type": "code",
   "execution_count": null,
   "id": "44e313bb-1da1-478d-a660-3404b6b23ad5",
   "metadata": {},
   "outputs": [],
   "source": []
  },
  {
   "cell_type": "markdown",
   "id": "544cbb6b-375e-407b-a964-339ffd6fc0ab",
   "metadata": {},
   "source": [
    "### Exercise 5: Green and Orange"
   ]
  },
  {
   "cell_type": "markdown",
   "id": "2d7a3366-438d-433e-8f01-63889b6167b8",
   "metadata": {},
   "source": [
    "Using the same code you used in exercise 4, make 100uL of `Green Dye` in column 7, and 100uL of `Orange Dye` in column 8. Think about how you would abstract this process into functions. You will need to do this later, and it is a good habit to get in to!"
   ]
  },
  {
   "cell_type": "code",
   "execution_count": null,
   "id": "12822da4-4561-4eab-9f6a-d47be827b768",
   "metadata": {},
   "outputs": [],
   "source": []
  },
  {
   "cell_type": "markdown",
   "id": "cca75fa5-a84c-462c-880b-c817d7d02b06",
   "metadata": {},
   "source": [
    "### Exercise 6: Putting it all together"
   ]
  },
  {
   "cell_type": "markdown",
   "id": "8bff06a3-944d-4a32-8fd8-a7092ca4ebf9",
   "metadata": {},
   "source": [
    "Now's the time to put your Python and PyLabRobot skills to the test! Using the functions you've been writing along the way, write a function that creates the entire plate we generated. Your function should take in at least the following parameters:\n",
    "1. Red Dye Source\n",
    "2. Blue Dye Source\n",
    "3. Yellow Dye Source\n",
    "4. Destination Plate\n",
    "\n",
    "Your main `make_rainbow_plate` function will have subsequent calls to smaller functions. For instance, first you will call `add_red_dye` on the first two columns, then `add_blue_dye` on the second two columns etc. Challenge yourself to not have a massive paragraph of code. Breaking these smaller tasks into their own functions is a great skill that will be useful in later exercises!"
   ]
  },
  {
   "cell_type": "code",
   "execution_count": null,
   "id": "366468f6-0c60-4970-b987-638b9014e5bd",
   "metadata": {},
   "outputs": [],
   "source": []
  },
  {
   "cell_type": "markdown",
   "id": "a90058ff-c599-4b55-94da-318f3250b378",
   "metadata": {},
   "source": [
    "### Challenge:"
   ]
  },
  {
   "cell_type": "markdown",
   "id": "a12ef944-0eb0-4ba2-afe6-a9c9375bb620",
   "metadata": {},
   "source": [
    "Remember building a deck for a food coloring serial dilution in lab 1? Using your new liquid handling skills, we are going to make a rainbow! Using the deck from before, you must prepare in a 96 well plate a serial dilution of the following colors: red, orange, yellow, green, blue, purple.\n",
    "* Assume that the starting concentration of our dyes are **1M**\n",
    "* Your concentrations should be: 500mM, 250mM, 125mM, 62.5mM, 31.25mM, and 15.63mM.\n",
    "* The final volume of dye in each well should be **200 uL.**\n",
    "* Recall the Dilution Equation of the form $C_{1}V_{1} = C_{2}V_{2}\\$"
   ]
  },
  {
   "cell_type": "code",
   "execution_count": null,
   "id": "6e95410e-9191-460f-a335-36970ce82d0c",
   "metadata": {},
   "outputs": [],
   "source": []
  }
 ],
 "metadata": {
  "kernelspec": {
   "display_name": "Python 3 (ipykernel)",
   "language": "python",
   "name": "python3"
  },
  "language_info": {
   "codemirror_mode": {
    "name": "ipython",
    "version": 3
   },
   "file_extension": ".py",
   "mimetype": "text/x-python",
   "name": "python",
   "nbconvert_exporter": "python",
   "pygments_lexer": "ipython3",
   "version": "3.10.4"
  }
 },
 "nbformat": 4,
 "nbformat_minor": 5
}
